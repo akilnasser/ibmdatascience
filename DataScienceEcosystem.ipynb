{
 "cells": [
  {
   "cell_type": "markdown",
   "id": "f1313c5a-165c-4dc0-9f63-6b5ac5505a33",
   "metadata": {
    "tags": []
   },
   "source": [
    "## Author\n",
    "Akil Nasser"
   ]
  },
  {
   "cell_type": "markdown",
   "id": "16f013ec-3b5e-408c-95e2-15e33c2db81e",
   "metadata": {
    "tags": []
   },
   "source": [
    "## Author\n",
    "Akil Nasser"
   ]
  },
  {
   "cell_type": "markdown",
   "id": "95402215-0092-4381-825c-93bfeccb4444",
   "metadata": {
    "tags": []
   },
   "source": [
    "# Data Science Tools and Ecosystem"
   ]
  },
  {
   "cell_type": "markdown",
   "id": "34373f32-e313-4ffb-915f-6af810b7b770",
   "metadata": {
    "tags": []
   },
   "source": [
    "# Data Science Tools and Ecosystem"
   ]
  },
  {
   "cell_type": "markdown",
   "id": "eca57efc-055f-4c7b-9128-c534288e2004",
   "metadata": {},
   "source": [
    "In this notebook, Data Science Tools and Ecosystem are summarized."
   ]
  },
  {
   "cell_type": "markdown",
   "id": "b27e691d-8865-49d4-9076-e370d1981160",
   "metadata": {},
   "source": [
    "In this notebook, Data Science Tools and Ecosystem are summarized."
   ]
  },
  {
   "cell_type": "markdown",
   "id": "7f8066c8-a01c-4039-9987-ca2510a7d48b",
   "metadata": {},
   "source": [
    "**Objectives:**\n",
    "* List popular languages for Data Science\n",
    "* Common libraries used by Data Scientists\n",
    "* Common Data Science tools"
   ]
  },
  {
   "cell_type": "markdown",
   "id": "9a38767a-7ffa-4f20-9591-ffa6fc084266",
   "metadata": {},
   "source": [
    "**Objectives:**\n",
    "* List popular languages for Data Science\n",
    "* Common libraries used by Data Scientists\n",
    "* Common Data Science tools"
   ]
  },
  {
   "cell_type": "markdown",
   "id": "0a1547e7-5137-4649-82ff-df0574256f10",
   "metadata": {
    "tags": []
   },
   "source": [
    "Some of the popular languages that Data Scientists use are:\n",
    "1. Java\n",
    "2. C++\n",
    "3. C\n",
    "    "
   ]
  },
  {
   "cell_type": "markdown",
   "id": "55fec9f5-1376-4520-98e7-7e4ec506acd8",
   "metadata": {
    "tags": []
   },
   "source": [
    "Some of the popular languages that Data Scientists use are:\n",
    "1. Java\n",
    "2. C++\n",
    "3. C\n",
    "    "
   ]
  },
  {
   "cell_type": "markdown",
   "id": "0d72410b-f8ee-4cb6-987a-617a1a208e8b",
   "metadata": {},
   "source": [
    "Some of the commonly used libraries used by Data Scientists include:\n",
    "1. pandas\n",
    "2. scikit-learn\n",
    "3. matplotlib\n",
    "    "
   ]
  },
  {
   "cell_type": "markdown",
   "id": "a568bb19-cc44-4ee1-b6ba-2133aab61d2f",
   "metadata": {},
   "source": [
    "Some of the commonly used libraries used by Data Scientists include:\n",
    "1. pandas\n",
    "2. scikit-learn\n",
    "3. matplotlib\n",
    "    "
   ]
  },
  {
   "cell_type": "markdown",
   "id": "8a8dc258-61b2-403e-b513-6c13a0bcfa46",
   "metadata": {},
   "source": [
    "Data Science Tools |\n",
    "------------------ |\n",
    "R Studio |\n",
    "Jupyter Notebook |\n",
    "Jupyter Lab |\n",
    "\n"
   ]
  },
  {
   "cell_type": "markdown",
   "id": "4001fdf3-8241-4a14-ad02-af2231ec50ec",
   "metadata": {},
   "source": [
    "Data Science Tools |\n",
    "------------------ |\n",
    "R Studio |\n",
    "Jupyter Notebook |\n",
    "Jupyter Lab |\n",
    "\n"
   ]
  },
  {
   "cell_type": "markdown",
   "id": "a76d739a-e64d-431c-b306-9accdbab1104",
   "metadata": {},
   "source": [
    "### Below are a few examples of evaluating arithmetic expressions in Python"
   ]
  },
  {
   "cell_type": "markdown",
   "id": "c41193c8-6ff0-4c3f-8c1b-636806f9af3d",
   "metadata": {},
   "source": [
    "### Below are a few examples of evaluating arithmetic expressions in Python"
   ]
  },
  {
   "cell_type": "code",
   "execution_count": 7,
   "id": "5a94da22-6b3d-4a5f-85af-9b6512894d16",
   "metadata": {
    "tags": []
   },
   "outputs": [
    {
     "name": "stdout",
     "output_type": "stream",
     "text": [
      "17\n"
     ]
    }
   ],
   "source": [
    "#This is a simple arithmetic expression to multiply then add integers\n",
    "s = (3*4)+5\n",
    "print(s)\n",
    "\n",
    "\n"
   ]
  },
  {
   "cell_type": "code",
   "execution_count": 9,
   "id": "b4b8c425-e9d7-48eb-95e7-9c157c73f528",
   "metadata": {
    "tags": []
   },
   "outputs": [
    {
     "name": "stdout",
     "output_type": "stream",
     "text": [
      "3.3333333333333335\n"
     ]
    }
   ],
   "source": [
    "#This will convert 200 minutes to hours by diving by 60\n",
    "t = 200/60\n",
    "print(t)\n"
   ]
  }
 ],
 "metadata": {
  "kernelspec": {
   "display_name": "Python",
   "language": "python",
   "name": "conda-env-python-py"
  },
  "language_info": {
   "codemirror_mode": {
    "name": "ipython",
    "version": 3
   },
   "file_extension": ".py",
   "mimetype": "text/x-python",
   "name": "python",
   "nbconvert_exporter": "python",
   "pygments_lexer": "ipython3",
   "version": "3.7.12"
  }
 },
 "nbformat": 4,
 "nbformat_minor": 5
}
